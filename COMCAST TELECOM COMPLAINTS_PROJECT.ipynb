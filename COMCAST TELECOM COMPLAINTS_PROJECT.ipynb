{
 "cells": [
  {
   "cell_type": "markdown",
   "id": "ae713ae9",
   "metadata": {},
   "source": [
    "# IMPORT REQUIRED LIBRARIES :"
   ]
  },
  {
   "cell_type": "code",
   "execution_count": 275,
   "id": "f4fdf97c",
   "metadata": {},
   "outputs": [],
   "source": [
    "import numpy as np\n",
    "import pandas as pd\n",
    "import seaborn as sns\n",
    "import matplotlib.pyplot as plt\n",
    "import warnings\n",
    "%matplotlib inline"
   ]
  },
  {
   "cell_type": "markdown",
   "id": "0f37b379",
   "metadata": {},
   "source": [
    "# IMPORT DATA SET :"
   ]
  },
  {
   "cell_type": "code",
   "execution_count": 276,
   "id": "f9a07b5f",
   "metadata": {},
   "outputs": [],
   "source": [
    "data=pd.read_csv('Comcast_telecom_complaints_data.csv')"
   ]
  },
  {
   "cell_type": "markdown",
   "id": "de16a6f6",
   "metadata": {},
   "source": [
    "# VIEW HEAD & TAIL OF DATA :"
   ]
  },
  {
   "cell_type": "code",
   "execution_count": 277,
   "id": "edbc2d0a",
   "metadata": {
    "scrolled": true
   },
   "outputs": [
    {
     "data": {
      "text/html": [
       "<div>\n",
       "<style scoped>\n",
       "    .dataframe tbody tr th:only-of-type {\n",
       "        vertical-align: middle;\n",
       "    }\n",
       "\n",
       "    .dataframe tbody tr th {\n",
       "        vertical-align: top;\n",
       "    }\n",
       "\n",
       "    .dataframe thead th {\n",
       "        text-align: right;\n",
       "    }\n",
       "</style>\n",
       "<table border=\"1\" class=\"dataframe\">\n",
       "  <thead>\n",
       "    <tr style=\"text-align: right;\">\n",
       "      <th></th>\n",
       "      <th>Ticket #</th>\n",
       "      <th>Customer Complaint</th>\n",
       "      <th>Date</th>\n",
       "      <th>Date_month_year</th>\n",
       "      <th>Time</th>\n",
       "      <th>Received Via</th>\n",
       "      <th>City</th>\n",
       "      <th>State</th>\n",
       "      <th>Zip code</th>\n",
       "      <th>Status</th>\n",
       "      <th>Filing on Behalf of Someone</th>\n",
       "    </tr>\n",
       "  </thead>\n",
       "  <tbody>\n",
       "    <tr>\n",
       "      <th>0</th>\n",
       "      <td>250635</td>\n",
       "      <td>Comcast Cable Internet Speeds</td>\n",
       "      <td>22-04-15</td>\n",
       "      <td>22-Apr-15</td>\n",
       "      <td>3:53:50 PM</td>\n",
       "      <td>Customer Care Call</td>\n",
       "      <td>Abingdon</td>\n",
       "      <td>Maryland</td>\n",
       "      <td>21009</td>\n",
       "      <td>Closed</td>\n",
       "      <td>No</td>\n",
       "    </tr>\n",
       "    <tr>\n",
       "      <th>1</th>\n",
       "      <td>223441</td>\n",
       "      <td>Payment disappear - service got disconnected</td>\n",
       "      <td>04-08-15</td>\n",
       "      <td>04-Aug-15</td>\n",
       "      <td>10:22:56 AM</td>\n",
       "      <td>Internet</td>\n",
       "      <td>Acworth</td>\n",
       "      <td>Georgia</td>\n",
       "      <td>30102</td>\n",
       "      <td>Closed</td>\n",
       "      <td>No</td>\n",
       "    </tr>\n",
       "    <tr>\n",
       "      <th>2</th>\n",
       "      <td>242732</td>\n",
       "      <td>Speed and Service</td>\n",
       "      <td>18-04-15</td>\n",
       "      <td>18-Apr-15</td>\n",
       "      <td>9:55:47 AM</td>\n",
       "      <td>Internet</td>\n",
       "      <td>Acworth</td>\n",
       "      <td>Georgia</td>\n",
       "      <td>30101</td>\n",
       "      <td>Closed</td>\n",
       "      <td>Yes</td>\n",
       "    </tr>\n",
       "    <tr>\n",
       "      <th>3</th>\n",
       "      <td>277946</td>\n",
       "      <td>Comcast Imposed a New Usage Cap of 300GB that ...</td>\n",
       "      <td>05-07-15</td>\n",
       "      <td>05-Jul-15</td>\n",
       "      <td>11:59:35 AM</td>\n",
       "      <td>Internet</td>\n",
       "      <td>Acworth</td>\n",
       "      <td>Georgia</td>\n",
       "      <td>30101</td>\n",
       "      <td>Open</td>\n",
       "      <td>Yes</td>\n",
       "    </tr>\n",
       "    <tr>\n",
       "      <th>4</th>\n",
       "      <td>307175</td>\n",
       "      <td>Comcast not working and no service to boot</td>\n",
       "      <td>26-05-15</td>\n",
       "      <td>26-May-15</td>\n",
       "      <td>1:25:26 PM</td>\n",
       "      <td>Internet</td>\n",
       "      <td>Acworth</td>\n",
       "      <td>Georgia</td>\n",
       "      <td>30101</td>\n",
       "      <td>Solved</td>\n",
       "      <td>No</td>\n",
       "    </tr>\n",
       "  </tbody>\n",
       "</table>\n",
       "</div>"
      ],
      "text/plain": [
       "  Ticket #                                 Customer Complaint      Date  \\\n",
       "0   250635                      Comcast Cable Internet Speeds  22-04-15   \n",
       "1   223441       Payment disappear - service got disconnected  04-08-15   \n",
       "2   242732                                  Speed and Service  18-04-15   \n",
       "3   277946  Comcast Imposed a New Usage Cap of 300GB that ...  05-07-15   \n",
       "4   307175         Comcast not working and no service to boot  26-05-15   \n",
       "\n",
       "  Date_month_year         Time        Received Via      City     State  \\\n",
       "0       22-Apr-15   3:53:50 PM  Customer Care Call  Abingdon  Maryland   \n",
       "1       04-Aug-15  10:22:56 AM            Internet   Acworth   Georgia   \n",
       "2       18-Apr-15   9:55:47 AM            Internet   Acworth   Georgia   \n",
       "3       05-Jul-15  11:59:35 AM            Internet   Acworth   Georgia   \n",
       "4       26-May-15   1:25:26 PM            Internet   Acworth   Georgia   \n",
       "\n",
       "   Zip code  Status Filing on Behalf of Someone  \n",
       "0     21009  Closed                          No  \n",
       "1     30102  Closed                          No  \n",
       "2     30101  Closed                         Yes  \n",
       "3     30101    Open                         Yes  \n",
       "4     30101  Solved                          No  "
      ]
     },
     "execution_count": 277,
     "metadata": {},
     "output_type": "execute_result"
    }
   ],
   "source": [
    "data.head()"
   ]
  },
  {
   "cell_type": "code",
   "execution_count": 278,
   "id": "bb9e73ba",
   "metadata": {},
   "outputs": [
    {
     "data": {
      "text/html": [
       "<div>\n",
       "<style scoped>\n",
       "    .dataframe tbody tr th:only-of-type {\n",
       "        vertical-align: middle;\n",
       "    }\n",
       "\n",
       "    .dataframe tbody tr th {\n",
       "        vertical-align: top;\n",
       "    }\n",
       "\n",
       "    .dataframe thead th {\n",
       "        text-align: right;\n",
       "    }\n",
       "</style>\n",
       "<table border=\"1\" class=\"dataframe\">\n",
       "  <thead>\n",
       "    <tr style=\"text-align: right;\">\n",
       "      <th></th>\n",
       "      <th>Ticket #</th>\n",
       "      <th>Customer Complaint</th>\n",
       "      <th>Date</th>\n",
       "      <th>Date_month_year</th>\n",
       "      <th>Time</th>\n",
       "      <th>Received Via</th>\n",
       "      <th>City</th>\n",
       "      <th>State</th>\n",
       "      <th>Zip code</th>\n",
       "      <th>Status</th>\n",
       "      <th>Filing on Behalf of Someone</th>\n",
       "    </tr>\n",
       "  </thead>\n",
       "  <tbody>\n",
       "    <tr>\n",
       "      <th>2219</th>\n",
       "      <td>213550</td>\n",
       "      <td>Service Availability</td>\n",
       "      <td>04-02-15</td>\n",
       "      <td>04-Feb-15</td>\n",
       "      <td>9:13:18 AM</td>\n",
       "      <td>Customer Care Call</td>\n",
       "      <td>Youngstown</td>\n",
       "      <td>Florida</td>\n",
       "      <td>32466</td>\n",
       "      <td>Closed</td>\n",
       "      <td>No</td>\n",
       "    </tr>\n",
       "    <tr>\n",
       "      <th>2220</th>\n",
       "      <td>318775</td>\n",
       "      <td>Comcast Monthly Billing for Returned Modem</td>\n",
       "      <td>06-02-15</td>\n",
       "      <td>06-Feb-15</td>\n",
       "      <td>1:24:39 PM</td>\n",
       "      <td>Customer Care Call</td>\n",
       "      <td>Ypsilanti</td>\n",
       "      <td>Michigan</td>\n",
       "      <td>48197</td>\n",
       "      <td>Solved</td>\n",
       "      <td>No</td>\n",
       "    </tr>\n",
       "    <tr>\n",
       "      <th>2221</th>\n",
       "      <td>331188</td>\n",
       "      <td>complaint about comcast</td>\n",
       "      <td>06-09-15</td>\n",
       "      <td>06-Sep-15</td>\n",
       "      <td>5:28:41 PM</td>\n",
       "      <td>Internet</td>\n",
       "      <td>Ypsilanti</td>\n",
       "      <td>Michigan</td>\n",
       "      <td>48197</td>\n",
       "      <td>Solved</td>\n",
       "      <td>No</td>\n",
       "    </tr>\n",
       "    <tr>\n",
       "      <th>2222</th>\n",
       "      <td>360489</td>\n",
       "      <td>Extremely unsatisfied Comcast customer</td>\n",
       "      <td>23-06-15</td>\n",
       "      <td>23-Jun-15</td>\n",
       "      <td>11:13:30 PM</td>\n",
       "      <td>Customer Care Call</td>\n",
       "      <td>Ypsilanti</td>\n",
       "      <td>Michigan</td>\n",
       "      <td>48197</td>\n",
       "      <td>Solved</td>\n",
       "      <td>No</td>\n",
       "    </tr>\n",
       "    <tr>\n",
       "      <th>2223</th>\n",
       "      <td>363614</td>\n",
       "      <td>Comcast, Ypsilanti MI Internet Speed</td>\n",
       "      <td>24-06-15</td>\n",
       "      <td>24-Jun-15</td>\n",
       "      <td>10:28:33 PM</td>\n",
       "      <td>Customer Care Call</td>\n",
       "      <td>Ypsilanti</td>\n",
       "      <td>Michigan</td>\n",
       "      <td>48198</td>\n",
       "      <td>Open</td>\n",
       "      <td>Yes</td>\n",
       "    </tr>\n",
       "  </tbody>\n",
       "</table>\n",
       "</div>"
      ],
      "text/plain": [
       "     Ticket #                          Customer Complaint      Date  \\\n",
       "2219   213550                        Service Availability  04-02-15   \n",
       "2220   318775  Comcast Monthly Billing for Returned Modem  06-02-15   \n",
       "2221   331188                     complaint about comcast  06-09-15   \n",
       "2222   360489      Extremely unsatisfied Comcast customer  23-06-15   \n",
       "2223   363614        Comcast, Ypsilanti MI Internet Speed  24-06-15   \n",
       "\n",
       "     Date_month_year         Time        Received Via        City     State  \\\n",
       "2219       04-Feb-15   9:13:18 AM  Customer Care Call  Youngstown   Florida   \n",
       "2220       06-Feb-15   1:24:39 PM  Customer Care Call   Ypsilanti  Michigan   \n",
       "2221       06-Sep-15   5:28:41 PM            Internet   Ypsilanti  Michigan   \n",
       "2222       23-Jun-15  11:13:30 PM  Customer Care Call   Ypsilanti  Michigan   \n",
       "2223       24-Jun-15  10:28:33 PM  Customer Care Call   Ypsilanti  Michigan   \n",
       "\n",
       "      Zip code  Status Filing on Behalf of Someone  \n",
       "2219     32466  Closed                          No  \n",
       "2220     48197  Solved                          No  \n",
       "2221     48197  Solved                          No  \n",
       "2222     48197  Solved                          No  \n",
       "2223     48198    Open                         Yes  "
      ]
     },
     "execution_count": 278,
     "metadata": {},
     "output_type": "execute_result"
    }
   ],
   "source": [
    "data.tail()"
   ]
  },
  {
   "cell_type": "markdown",
   "id": "f2721051",
   "metadata": {},
   "source": [
    "# VIEW SHAPE OF DATA"
   ]
  },
  {
   "cell_type": "code",
   "execution_count": 279,
   "id": "8d5fefbf",
   "metadata": {},
   "outputs": [
    {
     "data": {
      "text/plain": [
       "(2224, 11)"
      ]
     },
     "execution_count": 279,
     "metadata": {},
     "output_type": "execute_result"
    }
   ],
   "source": [
    "data.shape"
   ]
  },
  {
   "cell_type": "markdown",
   "id": "8ac5997c",
   "metadata": {},
   "source": [
    "# VIEW DATA INFORMATION :"
   ]
  },
  {
   "cell_type": "code",
   "execution_count": 280,
   "id": "62c60ee6",
   "metadata": {},
   "outputs": [
    {
     "name": "stdout",
     "output_type": "stream",
     "text": [
      "<class 'pandas.core.frame.DataFrame'>\n",
      "RangeIndex: 2224 entries, 0 to 2223\n",
      "Data columns (total 11 columns):\n",
      " #   Column                       Non-Null Count  Dtype \n",
      "---  ------                       --------------  ----- \n",
      " 0   Ticket #                     2224 non-null   object\n",
      " 1   Customer Complaint           2224 non-null   object\n",
      " 2   Date                         2224 non-null   object\n",
      " 3   Date_month_year              2224 non-null   object\n",
      " 4   Time                         2224 non-null   object\n",
      " 5   Received Via                 2224 non-null   object\n",
      " 6   City                         2224 non-null   object\n",
      " 7   State                        2224 non-null   object\n",
      " 8   Zip code                     2224 non-null   int64 \n",
      " 9   Status                       2224 non-null   object\n",
      " 10  Filing on Behalf of Someone  2224 non-null   object\n",
      "dtypes: int64(1), object(10)\n",
      "memory usage: 191.2+ KB\n"
     ]
    }
   ],
   "source": [
    "data.info()"
   ]
  },
  {
   "cell_type": "markdown",
   "id": "ed0409a9",
   "metadata": {},
   "source": [
    "# VIEW SUMMERY OF THE DATA :"
   ]
  },
  {
   "cell_type": "code",
   "execution_count": 281,
   "id": "983ef0aa",
   "metadata": {},
   "outputs": [
    {
     "data": {
      "text/html": [
       "<div>\n",
       "<style scoped>\n",
       "    .dataframe tbody tr th:only-of-type {\n",
       "        vertical-align: middle;\n",
       "    }\n",
       "\n",
       "    .dataframe tbody tr th {\n",
       "        vertical-align: top;\n",
       "    }\n",
       "\n",
       "    .dataframe thead th {\n",
       "        text-align: right;\n",
       "    }\n",
       "</style>\n",
       "<table border=\"1\" class=\"dataframe\">\n",
       "  <thead>\n",
       "    <tr style=\"text-align: right;\">\n",
       "      <th></th>\n",
       "      <th>Zip code</th>\n",
       "    </tr>\n",
       "  </thead>\n",
       "  <tbody>\n",
       "    <tr>\n",
       "      <th>count</th>\n",
       "      <td>2224.000000</td>\n",
       "    </tr>\n",
       "    <tr>\n",
       "      <th>mean</th>\n",
       "      <td>47994.393435</td>\n",
       "    </tr>\n",
       "    <tr>\n",
       "      <th>std</th>\n",
       "      <td>28885.279427</td>\n",
       "    </tr>\n",
       "    <tr>\n",
       "      <th>min</th>\n",
       "      <td>1075.000000</td>\n",
       "    </tr>\n",
       "    <tr>\n",
       "      <th>25%</th>\n",
       "      <td>30056.500000</td>\n",
       "    </tr>\n",
       "    <tr>\n",
       "      <th>50%</th>\n",
       "      <td>37211.000000</td>\n",
       "    </tr>\n",
       "    <tr>\n",
       "      <th>75%</th>\n",
       "      <td>77058.750000</td>\n",
       "    </tr>\n",
       "    <tr>\n",
       "      <th>max</th>\n",
       "      <td>99223.000000</td>\n",
       "    </tr>\n",
       "  </tbody>\n",
       "</table>\n",
       "</div>"
      ],
      "text/plain": [
       "           Zip code\n",
       "count   2224.000000\n",
       "mean   47994.393435\n",
       "std    28885.279427\n",
       "min     1075.000000\n",
       "25%    30056.500000\n",
       "50%    37211.000000\n",
       "75%    77058.750000\n",
       "max    99223.000000"
      ]
     },
     "execution_count": 281,
     "metadata": {},
     "output_type": "execute_result"
    }
   ],
   "source": [
    "data.describe()"
   ]
  },
  {
   "cell_type": "markdown",
   "id": "48ad9681",
   "metadata": {},
   "source": [
    "# FIND OUT THE NULL DATA :"
   ]
  },
  {
   "cell_type": "code",
   "execution_count": 282,
   "id": "adf40ea1",
   "metadata": {
    "scrolled": false
   },
   "outputs": [
    {
     "data": {
      "text/plain": [
       "Ticket #                       0\n",
       "Customer Complaint             0\n",
       "Date                           0\n",
       "Date_month_year                0\n",
       "Time                           0\n",
       "Received Via                   0\n",
       "City                           0\n",
       "State                          0\n",
       "Zip code                       0\n",
       "Status                         0\n",
       "Filing on Behalf of Someone    0\n",
       "dtype: int64"
      ]
     },
     "execution_count": 282,
     "metadata": {},
     "output_type": "execute_result"
    }
   ],
   "source": [
    "data.isnull().sum()"
   ]
  },
  {
   "cell_type": "markdown",
   "id": "ca4fa3b2",
   "metadata": {},
   "source": [
    "# 1. PROVIDE THE TREND CHART FOR THE NUMBER OF COMPLAINTS AT MONTHLY AND DAILY GRANULARITY LEVELS :"
   ]
  },
  {
   "cell_type": "markdown",
   "id": "8a1741f5",
   "metadata": {},
   "source": [
    "Split day, month and year from a column :"
   ]
  },
  {
   "cell_type": "code",
   "execution_count": 283,
   "id": "500682ae",
   "metadata": {
    "scrolled": false
   },
   "outputs": [],
   "source": [
    "data['Day'] = pd.DatetimeIndex(data['Date_month_year']).day\n",
    "data['Month'] = pd.DatetimeIndex(data['Date_month_year']).month\n",
    "data['Year'] = pd.DatetimeIndex(data['Date_month_year']).year"
   ]
  },
  {
   "cell_type": "markdown",
   "id": "1c6233ba",
   "metadata": {},
   "source": [
    "NUMBER OF COMPLAINTS AT MONTHLY LEVELS :"
   ]
  },
  {
   "cell_type": "code",
   "execution_count": 284,
   "id": "7f4e88ca",
   "metadata": {},
   "outputs": [
    {
     "data": {
      "image/png": "[encoded data removed]",
      "text/plain": [
       "<Figure size 576x360 with 1 Axes>"
      ]
     },
     "metadata": {
      "needs_background": "light"
     },
     "output_type": "display_data"
    }
   ],
   "source": [
    "plt.figure(figsize=(8,5))\n",
    "plt.plot(sorted(data['Month'].unique()), data.groupby(['Month']).size(), color='green')\n",
    "plt.xticks(sorted(data[\"Month\"].unique()),\n",
    "['Jan', 'Feb', 'Mar','Apr','May','Jun','Jul','Aug','Sep','Oct','Nov','Dec']);\n",
    "plt.xlabel('Month')\n",
    "plt.ylabel('Tickets Created')\n",
    "plt.title('Monthly Complaints Trend Chart');"
   ]
  },
  {
   "cell_type": "markdown",
   "id": "d7418fac",
   "metadata": {},
   "source": [
    "Insights = June Month has Maximun Complaints."
   ]
  },
  {
   "cell_type": "markdown",
   "id": "95413a5b",
   "metadata": {},
   "source": [
    "NUMBER OF COMPLAINTS AT DAILY LEVELS :"
   ]
  },
  {
   "cell_type": "code",
   "execution_count": 285,
   "id": "d38918b7",
   "metadata": {
    "scrolled": true
   },
   "outputs": [
    {
     "data": {
      "image/png": "[encoded data removed]",
      "text/plain": [
       "<Figure size 576x360 with 1 Axes>"
      ]
     },
     "metadata": {
      "needs_background": "light"
     },
     "output_type": "display_data"
    }
   ],
   "source": [
    "plt.figure(figsize=(8,5))\n",
    "plt.plot(sorted(data['Day'].unique()), data.groupby(['Day']).size(), color='red')\n",
    "\n",
    "plt.xlabel('Date')\n",
    "plt.ylabel('Tickets Created')    \n",
    "plt.title('Daily Complaints Trend Chart');"
   ]
  },
  {
   "cell_type": "markdown",
   "id": "c59c059b",
   "metadata": {},
   "source": [
    "# 2. PROVIDE A TABLE WITH THE FREQUENCY OF COMPLAINT TYPES :"
   ]
  },
  {
   "cell_type": "code",
   "execution_count": 286,
   "id": "65c99e53",
   "metadata": {},
   "outputs": [
    {
     "data": {
      "text/plain": [
       "Comcast                                          83\n",
       "Comcast Internet                                 18\n",
       "Comcast Data Cap                                 17\n",
       "comcast                                          13\n",
       "Comcast Billing                                  11\n",
       "                                                 ..\n",
       "Improper Billing and non resolution of issues     1\n",
       "Deceptive trade                                   1\n",
       "intermittent internet                             1\n",
       "Internet Speed on Wireless Connection             1\n",
       "Comcast, Ypsilanti MI Internet Speed              1\n",
       "Name: Customer Complaint, Length: 1841, dtype: int64"
      ]
     },
     "execution_count": 286,
     "metadata": {},
     "output_type": "execute_result"
    }
   ],
   "source": [
    "data['Customer Complaint'].value_counts(dropna=False)"
   ]
  },
  {
   "cell_type": "markdown",
   "id": "e4d5af27",
   "metadata": {},
   "source": [
    "# 3. Which complaint types are maximum i.e., around internet, network issues, or across any other domains :"
   ]
  },
  {
   "cell_type": "markdown",
   "id": "31c274af",
   "metadata": {},
   "source": [
    "Internet Issues :"
   ]
  },
  {
   "cell_type": "code",
   "execution_count": 287,
   "id": "1b4bbbfb",
   "metadata": {},
   "outputs": [
    {
     "data": {
      "text/plain": [
       "Ticket #                       374\n",
       "Customer Complaint             374\n",
       "Date                           374\n",
       "Date_month_year                374\n",
       "Time                           374\n",
       "Received Via                   374\n",
       "City                           374\n",
       "State                          374\n",
       "Zip code                       374\n",
       "Status                         374\n",
       "Filing on Behalf of Someone    374\n",
       "Day                            374\n",
       "Month                          374\n",
       "Year                           374\n",
       "dtype: int64"
      ]
     },
     "execution_count": 287,
     "metadata": {},
     "output_type": "execute_result"
    }
   ],
   "source": [
    "Internet01= data[data['Customer Complaint'].str.contains('network')].count()\n",
    "Internet02= data[data['Customer Complaint'].str.contains('speed')].count()\n",
    "Internet03= data[data['Customer Complaint'].str.contains('data')].count()\n",
    "Internet04= data[data['Customer Complaint'].str.contains('internet')].count()\n",
    "Internet_Issues=(Internet01+Internet02+Internet03+Internet04)\n",
    "Internet_Issues"
   ]
  },
  {
   "cell_type": "markdown",
   "id": "061ed1b3",
   "metadata": {},
   "source": [
    "Billing Issue :"
   ]
  },
  {
   "cell_type": "code",
   "execution_count": 288,
   "id": "a4df7459",
   "metadata": {},
   "outputs": [
    {
     "data": {
      "text/plain": [
       "Ticket #                       211\n",
       "Customer Complaint             211\n",
       "Date                           211\n",
       "Date_month_year                211\n",
       "Time                           211\n",
       "Received Via                   211\n",
       "City                           211\n",
       "State                          211\n",
       "Zip code                       211\n",
       "Status                         211\n",
       "Filing on Behalf of Someone    211\n",
       "Day                            211\n",
       "Month                          211\n",
       "Year                           211\n",
       "dtype: int64"
      ]
     },
     "execution_count": 288,
     "metadata": {},
     "output_type": "execute_result"
    }
   ],
   "source": [
    "Billing01= data[data['Customer Complaint'].str.contains('billing')].count()\n",
    "Billing02= data[data['Customer Complaint'].str.contains('charge')].count()\n",
    "Billing_Issues=(Billing01+Billing02)\n",
    "Billing_Issues"
   ]
  },
  {
   "cell_type": "code",
   "execution_count": 289,
   "id": "fc21550f",
   "metadata": {},
   "outputs": [
    {
     "data": {
      "text/plain": [
       "Ticket #                       310\n",
       "Customer Complaint             310\n",
       "Date                           310\n",
       "Date_month_year                310\n",
       "Time                           310\n",
       "Received Via                   310\n",
       "City                           310\n",
       "State                          310\n",
       "Zip code                       310\n",
       "Status                         310\n",
       "Filing on Behalf of Someone    310\n",
       "Day                            310\n",
       "Month                          310\n",
       "Year                           310\n",
       "dtype: int64"
      ]
     },
     "execution_count": 289,
     "metadata": {},
     "output_type": "execute_result"
    }
   ],
   "source": [
    "Service_Issue= data[data['Customer Complaint'].str.contains('service')].count()\n",
    "Service_Issue"
   ]
  },
  {
   "cell_type": "code",
   "execution_count": 290,
   "id": "ca990541",
   "metadata": {},
   "outputs": [
    {
     "data": {
      "text/plain": [
       "Ticket #                       895\n",
       "Customer Complaint             895\n",
       "Date                           895\n",
       "Date_month_year                895\n",
       "Time                           895\n",
       "Received Via                   895\n",
       "City                           895\n",
       "State                          895\n",
       "Zip code                       895\n",
       "Status                         895\n",
       "Filing on Behalf of Someone    895\n",
       "Day                            895\n",
       "Month                          895\n",
       "Year                           895\n",
       "dtype: int64"
      ]
     },
     "execution_count": 290,
     "metadata": {},
     "output_type": "execute_result"
    }
   ],
   "source": [
    "Total_Issues = (Internet_Issues+Billing_Issues+Service_Issue)\n",
    "Total_Issues"
   ]
  },
  {
   "cell_type": "code",
   "execution_count": 291,
   "id": "6f92529d",
   "metadata": {},
   "outputs": [
    {
     "data": {
      "text/plain": [
       "Ticket #                       1329\n",
       "Customer Complaint             1329\n",
       "Date                           1329\n",
       "Date_month_year                1329\n",
       "Time                           1329\n",
       "Received Via                   1329\n",
       "City                           1329\n",
       "State                          1329\n",
       "Zip code                       1329\n",
       "Status                         1329\n",
       "Filing on Behalf of Someone    1329\n",
       "Day                            1329\n",
       "Month                          1329\n",
       "Year                           1329\n",
       "dtype: int64"
      ]
     },
     "execution_count": 291,
     "metadata": {},
     "output_type": "execute_result"
    }
   ],
   "source": [
    "Other_Domain_Issues = 2224-Total_Issues\n",
    "Other_Domain_Issues"
   ]
  },
  {
   "cell_type": "markdown",
   "id": "c8934098",
   "metadata": {},
   "source": [
    "Insights = Other Domain Complaints are maximum"
   ]
  },
  {
   "cell_type": "markdown",
   "id": "01fd64a8",
   "metadata": {},
   "source": [
    "# 4. Create a new categorical variable with value as Open and Closed. Open & Pending is to be categorized as Open and Closed & Solved is to be categorized as Closed :"
   ]
  },
  {
   "cell_type": "code",
   "execution_count": 292,
   "id": "57474b1c",
   "metadata": {},
   "outputs": [
    {
     "data": {
      "text/plain": [
       "array(['Closed', 'Open', 'Solved', 'Pending'], dtype=object)"
      ]
     },
     "execution_count": 292,
     "metadata": {},
     "output_type": "execute_result"
    }
   ],
   "source": [
    "data.Status.unique()"
   ]
  },
  {
   "cell_type": "code",
   "execution_count": 293,
   "id": "ceb51675",
   "metadata": {
    "scrolled": false
   },
   "outputs": [
    {
     "data": {
      "text/html": [
       "<div>\n",
       "<style scoped>\n",
       "    .dataframe tbody tr th:only-of-type {\n",
       "        vertical-align: middle;\n",
       "    }\n",
       "\n",
       "    .dataframe tbody tr th {\n",
       "        vertical-align: top;\n",
       "    }\n",
       "\n",
       "    .dataframe thead th {\n",
       "        text-align: right;\n",
       "    }\n",
       "</style>\n",
       "<table border=\"1\" class=\"dataframe\">\n",
       "  <thead>\n",
       "    <tr style=\"text-align: right;\">\n",
       "      <th></th>\n",
       "      <th>Ticket #</th>\n",
       "      <th>Customer Complaint</th>\n",
       "      <th>Date</th>\n",
       "      <th>Date_month_year</th>\n",
       "      <th>Time</th>\n",
       "      <th>Received Via</th>\n",
       "      <th>City</th>\n",
       "      <th>State</th>\n",
       "      <th>Zip code</th>\n",
       "      <th>Status</th>\n",
       "      <th>Filing on Behalf of Someone</th>\n",
       "      <th>Day</th>\n",
       "      <th>Month</th>\n",
       "      <th>Year</th>\n",
       "      <th>Current_Status</th>\n",
       "    </tr>\n",
       "  </thead>\n",
       "  <tbody>\n",
       "    <tr>\n",
       "      <th>0</th>\n",
       "      <td>250635</td>\n",
       "      <td>Comcast Cable Internet Speeds</td>\n",
       "      <td>22-04-15</td>\n",
       "      <td>22-Apr-15</td>\n",
       "      <td>3:53:50 PM</td>\n",
       "      <td>Customer Care Call</td>\n",
       "      <td>Abingdon</td>\n",
       "      <td>Maryland</td>\n",
       "      <td>21009</td>\n",
       "      <td>Closed</td>\n",
       "      <td>No</td>\n",
       "      <td>22</td>\n",
       "      <td>4</td>\n",
       "      <td>2015</td>\n",
       "      <td>Closed</td>\n",
       "    </tr>\n",
       "    <tr>\n",
       "      <th>1</th>\n",
       "      <td>223441</td>\n",
       "      <td>Payment disappear - service got disconnected</td>\n",
       "      <td>04-08-15</td>\n",
       "      <td>04-Aug-15</td>\n",
       "      <td>10:22:56 AM</td>\n",
       "      <td>Internet</td>\n",
       "      <td>Acworth</td>\n",
       "      <td>Georgia</td>\n",
       "      <td>30102</td>\n",
       "      <td>Closed</td>\n",
       "      <td>No</td>\n",
       "      <td>4</td>\n",
       "      <td>8</td>\n",
       "      <td>2015</td>\n",
       "      <td>Closed</td>\n",
       "    </tr>\n",
       "    <tr>\n",
       "      <th>2</th>\n",
       "      <td>242732</td>\n",
       "      <td>Speed and Service</td>\n",
       "      <td>18-04-15</td>\n",
       "      <td>18-Apr-15</td>\n",
       "      <td>9:55:47 AM</td>\n",
       "      <td>Internet</td>\n",
       "      <td>Acworth</td>\n",
       "      <td>Georgia</td>\n",
       "      <td>30101</td>\n",
       "      <td>Closed</td>\n",
       "      <td>Yes</td>\n",
       "      <td>18</td>\n",
       "      <td>4</td>\n",
       "      <td>2015</td>\n",
       "      <td>Closed</td>\n",
       "    </tr>\n",
       "    <tr>\n",
       "      <th>3</th>\n",
       "      <td>277946</td>\n",
       "      <td>Comcast Imposed a New Usage Cap of 300GB that ...</td>\n",
       "      <td>05-07-15</td>\n",
       "      <td>05-Jul-15</td>\n",
       "      <td>11:59:35 AM</td>\n",
       "      <td>Internet</td>\n",
       "      <td>Acworth</td>\n",
       "      <td>Georgia</td>\n",
       "      <td>30101</td>\n",
       "      <td>Open</td>\n",
       "      <td>Yes</td>\n",
       "      <td>5</td>\n",
       "      <td>7</td>\n",
       "      <td>2015</td>\n",
       "      <td>Open</td>\n",
       "    </tr>\n",
       "    <tr>\n",
       "      <th>4</th>\n",
       "      <td>307175</td>\n",
       "      <td>Comcast not working and no service to boot</td>\n",
       "      <td>26-05-15</td>\n",
       "      <td>26-May-15</td>\n",
       "      <td>1:25:26 PM</td>\n",
       "      <td>Internet</td>\n",
       "      <td>Acworth</td>\n",
       "      <td>Georgia</td>\n",
       "      <td>30101</td>\n",
       "      <td>Solved</td>\n",
       "      <td>No</td>\n",
       "      <td>26</td>\n",
       "      <td>5</td>\n",
       "      <td>2015</td>\n",
       "      <td>Closed</td>\n",
       "    </tr>\n",
       "    <tr>\n",
       "      <th>5</th>\n",
       "      <td>338519</td>\n",
       "      <td>ISP Charging for arbitrary data limits with ov...</td>\n",
       "      <td>06-12-15</td>\n",
       "      <td>06-Dec-15</td>\n",
       "      <td>9:59:40 PM</td>\n",
       "      <td>Internet</td>\n",
       "      <td>Acworth</td>\n",
       "      <td>Georgia</td>\n",
       "      <td>30101</td>\n",
       "      <td>Solved</td>\n",
       "      <td>No</td>\n",
       "      <td>6</td>\n",
       "      <td>12</td>\n",
       "      <td>2015</td>\n",
       "      <td>Closed</td>\n",
       "    </tr>\n",
       "    <tr>\n",
       "      <th>6</th>\n",
       "      <td>361148</td>\n",
       "      <td>Throttling service and unreasonable data caps</td>\n",
       "      <td>24-06-15</td>\n",
       "      <td>24-Jun-15</td>\n",
       "      <td>10:13:55 AM</td>\n",
       "      <td>Customer Care Call</td>\n",
       "      <td>Acworth</td>\n",
       "      <td>Georgia</td>\n",
       "      <td>30101</td>\n",
       "      <td>Pending</td>\n",
       "      <td>No</td>\n",
       "      <td>24</td>\n",
       "      <td>6</td>\n",
       "      <td>2015</td>\n",
       "      <td>Open</td>\n",
       "    </tr>\n",
       "    <tr>\n",
       "      <th>7</th>\n",
       "      <td>359792</td>\n",
       "      <td>Comcast refuses to help troubleshoot and corre...</td>\n",
       "      <td>23-06-15</td>\n",
       "      <td>23-Jun-15</td>\n",
       "      <td>6:56:14 PM</td>\n",
       "      <td>Internet</td>\n",
       "      <td>Adrian</td>\n",
       "      <td>Michigan</td>\n",
       "      <td>49221</td>\n",
       "      <td>Solved</td>\n",
       "      <td>No</td>\n",
       "      <td>23</td>\n",
       "      <td>6</td>\n",
       "      <td>2015</td>\n",
       "      <td>Closed</td>\n",
       "    </tr>\n",
       "    <tr>\n",
       "      <th>8</th>\n",
       "      <td>318072</td>\n",
       "      <td>Comcast extended outages</td>\n",
       "      <td>06-01-15</td>\n",
       "      <td>06-Jan-15</td>\n",
       "      <td>11:46:30 PM</td>\n",
       "      <td>Customer Care Call</td>\n",
       "      <td>Alameda</td>\n",
       "      <td>California</td>\n",
       "      <td>94502</td>\n",
       "      <td>Closed</td>\n",
       "      <td>No</td>\n",
       "      <td>6</td>\n",
       "      <td>1</td>\n",
       "      <td>2015</td>\n",
       "      <td>Closed</td>\n",
       "    </tr>\n",
       "    <tr>\n",
       "      <th>9</th>\n",
       "      <td>371214</td>\n",
       "      <td>Comcast Raising Prices and Not Being Available...</td>\n",
       "      <td>28-06-15</td>\n",
       "      <td>28-Jun-15</td>\n",
       "      <td>6:46:31 PM</td>\n",
       "      <td>Customer Care Call</td>\n",
       "      <td>Alameda</td>\n",
       "      <td>California</td>\n",
       "      <td>94501</td>\n",
       "      <td>Open</td>\n",
       "      <td>Yes</td>\n",
       "      <td>28</td>\n",
       "      <td>6</td>\n",
       "      <td>2015</td>\n",
       "      <td>Open</td>\n",
       "    </tr>\n",
       "  </tbody>\n",
       "</table>\n",
       "</div>"
      ],
      "text/plain": [
       "  Ticket #                                 Customer Complaint      Date  \\\n",
       "0   250635                      Comcast Cable Internet Speeds  22-04-15   \n",
       "1   223441       Payment disappear - service got disconnected  04-08-15   \n",
       "2   242732                                  Speed and Service  18-04-15   \n",
       "3   277946  Comcast Imposed a New Usage Cap of 300GB that ...  05-07-15   \n",
       "4   307175         Comcast not working and no service to boot  26-05-15   \n",
       "5   338519  ISP Charging for arbitrary data limits with ov...  06-12-15   \n",
       "6   361148      Throttling service and unreasonable data caps  24-06-15   \n",
       "7   359792  Comcast refuses to help troubleshoot and corre...  23-06-15   \n",
       "8   318072                           Comcast extended outages  06-01-15   \n",
       "9   371214  Comcast Raising Prices and Not Being Available...  28-06-15   \n",
       "\n",
       "  Date_month_year         Time        Received Via      City       State  \\\n",
       "0       22-Apr-15   3:53:50 PM  Customer Care Call  Abingdon    Maryland   \n",
       "1       04-Aug-15  10:22:56 AM            Internet   Acworth     Georgia   \n",
       "2       18-Apr-15   9:55:47 AM            Internet   Acworth     Georgia   \n",
       "3       05-Jul-15  11:59:35 AM            Internet   Acworth     Georgia   \n",
       "4       26-May-15   1:25:26 PM            Internet   Acworth     Georgia   \n",
       "5       06-Dec-15   9:59:40 PM            Internet   Acworth     Georgia   \n",
       "6       24-Jun-15  10:13:55 AM  Customer Care Call   Acworth     Georgia   \n",
       "7       23-Jun-15   6:56:14 PM            Internet    Adrian    Michigan   \n",
       "8       06-Jan-15  11:46:30 PM  Customer Care Call   Alameda  California   \n",
       "9       28-Jun-15   6:46:31 PM  Customer Care Call   Alameda  California   \n",
       "\n",
       "   Zip code   Status Filing on Behalf of Someone  Day  Month  Year  \\\n",
       "0     21009   Closed                          No   22      4  2015   \n",
       "1     30102   Closed                          No    4      8  2015   \n",
       "2     30101   Closed                         Yes   18      4  2015   \n",
       "3     30101     Open                         Yes    5      7  2015   \n",
       "4     30101   Solved                          No   26      5  2015   \n",
       "5     30101   Solved                          No    6     12  2015   \n",
       "6     30101  Pending                          No   24      6  2015   \n",
       "7     49221   Solved                          No   23      6  2015   \n",
       "8     94502   Closed                          No    6      1  2015   \n",
       "9     94501     Open                         Yes   28      6  2015   \n",
       "\n",
       "  Current_Status  \n",
       "0         Closed  \n",
       "1         Closed  \n",
       "2         Closed  \n",
       "3           Open  \n",
       "4         Closed  \n",
       "5         Closed  \n",
       "6           Open  \n",
       "7         Closed  \n",
       "8         Closed  \n",
       "9           Open  "
      ]
     },
     "execution_count": 293,
     "metadata": {},
     "output_type": "execute_result"
    }
   ],
   "source": [
    "data['Current_Status'] = ['Open' if i=='Open' or i=='Pending' else 'Closed' for i in data.Status]\n",
    "data.head(10)"
   ]
  },
  {
   "cell_type": "markdown",
   "id": "aefe24fc",
   "metadata": {},
   "source": [
    "# 5.  Provide state wise status of complaints in a stacked bar chart :"
   ]
  },
  {
   "cell_type": "code",
   "execution_count": 294,
   "id": "2a54469f",
   "metadata": {
    "scrolled": false
   },
   "outputs": [
    {
     "data": {
      "image/png": "[encoded data removed]",
      "text/plain": [
       "<Figure size 1080x288 with 1 Axes>"
      ]
     },
     "metadata": {
      "needs_background": "light"
     },
     "output_type": "display_data"
    }
   ],
   "source": [
    "Statewise_Complaints=data.groupby(['State', 'Current_Status']).size().unstack().fillna(0)\n",
    "Statewise_Complaints.plot.bar(figsize=(15,4),stacked=True)\n",
    "plt.xlabel('State')\n",
    "plt.ylabel('Current_Status')\n",
    "plt.title('Statewise status of customer complaints');"
   ]
  },
  {
   "cell_type": "markdown",
   "id": "6d778a02",
   "metadata": {},
   "source": [
    "# 6. Which state has the maximum complaints :"
   ]
  },
  {
   "cell_type": "code",
   "execution_count": 295,
   "id": "0c424840",
   "metadata": {
    "scrolled": false
   },
   "outputs": [
    {
     "data": {
      "text/plain": [
       "State\n",
       "Georgia       288\n",
       "Florida       240\n",
       "California    220\n",
       "Illinois      164\n",
       "Tennessee     143\n",
       "dtype: int64"
      ]
     },
     "execution_count": 295,
     "metadata": {},
     "output_type": "execute_result"
    }
   ],
   "source": [
    "data.groupby(['State']).size().sort_values(ascending=False).head()"
   ]
  },
  {
   "cell_type": "markdown",
   "id": "3ad9c288",
   "metadata": {},
   "source": [
    "Insights = Georgia has maximum complaints"
   ]
  },
  {
   "cell_type": "markdown",
   "id": "a6c3fa70",
   "metadata": {},
   "source": [
    "# 7. Which state has the highest percentage of unresolved complaints :"
   ]
  },
  {
   "cell_type": "code",
   "execution_count": 296,
   "id": "bd86c82e",
   "metadata": {},
   "outputs": [
    {
     "data": {
      "text/html": [
       "<div>\n",
       "<style scoped>\n",
       "    .dataframe tbody tr th:only-of-type {\n",
       "        vertical-align: middle;\n",
       "    }\n",
       "\n",
       "    .dataframe tbody tr th {\n",
       "        vertical-align: top;\n",
       "    }\n",
       "\n",
       "    .dataframe thead th {\n",
       "        text-align: right;\n",
       "    }\n",
       "</style>\n",
       "<table border=\"1\" class=\"dataframe\">\n",
       "  <thead>\n",
       "    <tr style=\"text-align: right;\">\n",
       "      <th>Current_Status</th>\n",
       "      <th>Closed</th>\n",
       "      <th>Open</th>\n",
       "    </tr>\n",
       "    <tr>\n",
       "      <th>State</th>\n",
       "      <th></th>\n",
       "      <th></th>\n",
       "    </tr>\n",
       "  </thead>\n",
       "  <tbody>\n",
       "    <tr>\n",
       "      <th>Georgia</th>\n",
       "      <td>208.0</td>\n",
       "      <td>80.0</td>\n",
       "    </tr>\n",
       "    <tr>\n",
       "      <th>California</th>\n",
       "      <td>159.0</td>\n",
       "      <td>61.0</td>\n",
       "    </tr>\n",
       "    <tr>\n",
       "      <th>Tennessee</th>\n",
       "      <td>96.0</td>\n",
       "      <td>47.0</td>\n",
       "    </tr>\n",
       "    <tr>\n",
       "      <th>Florida</th>\n",
       "      <td>201.0</td>\n",
       "      <td>39.0</td>\n",
       "    </tr>\n",
       "    <tr>\n",
       "      <th>Illinois</th>\n",
       "      <td>135.0</td>\n",
       "      <td>29.0</td>\n",
       "    </tr>\n",
       "  </tbody>\n",
       "</table>\n",
       "</div>"
      ],
      "text/plain": [
       "Current_Status  Closed  Open\n",
       "State                       \n",
       "Georgia          208.0  80.0\n",
       "California       159.0  61.0\n",
       "Tennessee         96.0  47.0\n",
       "Florida          201.0  39.0\n",
       "Illinois         135.0  29.0"
      ]
     },
     "execution_count": 296,
     "metadata": {},
     "output_type": "execute_result"
    }
   ],
   "source": [
    "Unresolved_Complaints=data.groupby(['State', 'Current_Status']).size().unstack().fillna(0).sort_values(by='Open', ascending=False).head()\n",
    "Unresolved_Complaints"
   ]
  },
  {
   "cell_type": "code",
   "execution_count": 297,
   "id": "27ccb143",
   "metadata": {},
   "outputs": [
    {
     "data": {
      "image/png": "[encoded data removed]",
      "text/plain": [
       "<Figure size 432x288 with 1 Axes>"
      ]
     },
     "metadata": {
      "needs_background": "light"
     },
     "output_type": "display_data"
    }
   ],
   "source": [
    "Per_of_Unresolved_Complaints=Unresolved_Complaints['Open'] / Unresolved_Complaints['Open'].sum()*100\n",
    "Per_of_Unresolved_Complaints.head()\n",
    "Per_of_Unresolved_Complaints.plot(color='#A0522D');"
   ]
  },
  {
   "cell_type": "markdown",
   "id": "cb62b8f7",
   "metadata": {},
   "source": [
    "Insights = Georgia has highest percentage of unresolved complaints"
   ]
  },
  {
   "cell_type": "markdown",
   "id": "f32f0b21",
   "metadata": {},
   "source": [
    "# 8. Provide the percentage of complaints resolved till date, which were received through the Internet and customer care calls :"
   ]
  },
  {
   "cell_type": "code",
   "execution_count": 298,
   "id": "a966c50e",
   "metadata": {},
   "outputs": [
    {
     "data": {
      "text/html": [
       "<div>\n",
       "<style scoped>\n",
       "    .dataframe tbody tr th:only-of-type {\n",
       "        vertical-align: middle;\n",
       "    }\n",
       "\n",
       "    .dataframe tbody tr th {\n",
       "        vertical-align: top;\n",
       "    }\n",
       "\n",
       "    .dataframe thead th {\n",
       "        text-align: right;\n",
       "    }\n",
       "</style>\n",
       "<table border=\"1\" class=\"dataframe\">\n",
       "  <thead>\n",
       "    <tr style=\"text-align: right;\">\n",
       "      <th>Current_Status</th>\n",
       "      <th>Closed</th>\n",
       "      <th>Open</th>\n",
       "    </tr>\n",
       "    <tr>\n",
       "      <th>Received Via</th>\n",
       "      <th></th>\n",
       "      <th></th>\n",
       "    </tr>\n",
       "  </thead>\n",
       "  <tbody>\n",
       "    <tr>\n",
       "      <th>Customer Care Call</th>\n",
       "      <td>864</td>\n",
       "      <td>255</td>\n",
       "    </tr>\n",
       "    <tr>\n",
       "      <th>Internet</th>\n",
       "      <td>843</td>\n",
       "      <td>262</td>\n",
       "    </tr>\n",
       "  </tbody>\n",
       "</table>\n",
       "</div>"
      ],
      "text/plain": [
       "Current_Status      Closed  Open\n",
       "Received Via                    \n",
       "Customer Care Call     864   255\n",
       "Internet               843   262"
      ]
     },
     "execution_count": 298,
     "metadata": {},
     "output_type": "execute_result"
    }
   ],
   "source": [
    "Resolved_Complaints=(data.groupby(['Received Via','Current_Status']).size().unstack())\n",
    "Resolved_Complaints"
   ]
  },
  {
   "cell_type": "code",
   "execution_count": 299,
   "id": "6eef0aaf",
   "metadata": {},
   "outputs": [
    {
     "data": {
      "image/png": "[encoded data removed]",
      "text/plain": [
       "<Figure size 432x288 with 1 Axes>"
      ]
     },
     "metadata": {},
     "output_type": "display_data"
    }
   ],
   "source": [
    "Per_of_Resolved_Complaints = Resolved_Complaints['Closed'] / Resolved_Complaints['Closed'].sum()*100\n",
    "labels=['Customer Care Call', 'Internet']\n",
    "Values=['864', '843']\n",
    "plt.pie(Values, labels=labels, autopct=\"%.1f%%\")\n",
    "plt.title('Percentage of Resolved Complaints');"
   ]
  },
  {
   "cell_type": "code",
   "execution_count": null,
   "id": "bfaff3f2",
   "metadata": {},
   "outputs": [],
   "source": []
  }
 ],
 "metadata": {
  "kernelspec": {
   "display_name": "Python 3 (ipykernel)",
   "language": "python",
   "name": "python3"
  },
  "language_info": {
   "codemirror_mode": {
    "name": "ipython",
    "version": 3
   },
   "file_extension": ".py",
   "mimetype": "text/x-python",
   "name": "python",
   "nbconvert_exporter": "python",
   "pygments_lexer": "ipython3",
   "version": "3.9.7"
  }
 },
 "nbformat": 4,
 "nbformat_minor": 5
}
